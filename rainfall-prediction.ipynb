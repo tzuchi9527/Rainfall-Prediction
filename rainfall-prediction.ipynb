{
 "cells": [
  {
   "cell_type": "code",
   "execution_count": 1,
   "metadata": {},
   "outputs": [
    {
     "name": "stderr",
     "output_type": "stream",
     "text": [
      "/Applications/anaconda/envs/ipykernel_py3/lib/python3.6/site-packages/sklearn/cross_validation.py:41: DeprecationWarning: This module was deprecated in version 0.18 in favor of the model_selection module into which all the refactored classes and functions are moved. Also note that the interface of the new CV iterators are different from that of this module. This module will be removed in 0.20.\n",
      "  \"This module will be removed in 0.20.\", DeprecationWarning)\n",
      "/Applications/anaconda/envs/ipykernel_py3/lib/python3.6/site-packages/sklearn/grid_search.py:42: DeprecationWarning: This module was deprecated in version 0.18 in favor of the model_selection module into which all the refactored classes and functions are moved. This module will be removed in 0.20.\n",
      "  DeprecationWarning)\n",
      "/Applications/anaconda/envs/ipykernel_py3/lib/python3.6/site-packages/sklearn/learning_curve.py:22: DeprecationWarning: This module was deprecated in version 0.18 in favor of the model_selection module into which all the functions are moved. This module will be removed in 0.20\n",
      "  DeprecationWarning)\n"
     ]
    }
   ],
   "source": [
    "import warnings\n",
    "warnings.filterwarnings('ignore')\n",
    "\n",
    "import numpy as np\n",
    "import time\n",
    "from sklearn import *\n",
    "\n",
    "from itertools import product"
   ]
  },
  {
   "cell_type": "code",
   "execution_count": 2,
   "metadata": {
    "collapsed": true
   },
   "outputs": [],
   "source": [
    "# load data\n",
    "x_data_all = np.genfromtxt(\"data/X_train.txt\", delimiter=None)\n",
    "y_data_all = np.genfromtxt(\"data/Y_train.txt\", delimiter=None)\n",
    "x_test = np.genfromtxt(\"data/X_test.txt\", delimiter=None)"
   ]
  },
  {
   "cell_type": "code",
   "execution_count": 3,
   "metadata": {
    "collapsed": true
   },
   "outputs": [],
   "source": [
    "# x_data = x_data_all[:10000, :]\n",
    "# y_data = y_data_all[:10000]\n",
    "\n",
    "x_data = x_data_all\n",
    "y_data = y_data_all"
   ]
  },
  {
   "cell_type": "code",
   "execution_count": 4,
   "metadata": {
    "collapsed": true
   },
   "outputs": [],
   "source": [
    "# split training / validation data\n",
    "x_train, x_validation, y_train, y_validation = model_selection.train_test_split(\n",
    "    x_data, y_data, test_size=0.2, random_state=42)"
   ]
  },
  {
   "cell_type": "code",
   "execution_count": 5,
   "metadata": {},
   "outputs": [
    {
     "name": "stdout",
     "output_type": "stream",
     "text": [
      "training started\n",
      "training finished, took 454.1300449371338 seconds\n",
      "ROC: 0.775414018092\n"
     ]
    }
   ],
   "source": [
    "gradient_boosting_classifier = ensemble.GradientBoostingClassifier(n_estimators=100, learning_rate=0.5,\n",
    "     max_depth=15, max_leaf_nodes=150, random_state=0)\n",
    "\n",
    "print(\"training started\")\n",
    "starting_time = time.time()\n",
    "gradient_boosting_classifier.fit(x_train, y_train)\n",
    "end_time = time.time()\n",
    "print(\"training finished, took {} seconds\".format(end_time - starting_time))\n",
    "\n",
    "gradient_boosting_classifier_roc = metrics.roc_auc_score(\n",
    "   y_validation, gradient_boosting_classifier.predict_proba(x_validation)[:,1])\n",
    "print(\"ROC:\", gradient_boosting_classifier_roc)"
   ]
  },
  {
   "cell_type": "code",
   "execution_count": 6,
   "metadata": {},
   "outputs": [
    {
     "name": "stdout",
     "output_type": "stream",
     "text": [
      "training started\n",
      "training finished, took 414.6953058242798 seconds\n",
      "ROC: 0.786627537826\n"
     ]
    }
   ],
   "source": [
    "random_forest_classifier = ensemble.RandomForestClassifier(\n",
    "    n_estimators=1000, min_samples_leaf=5, n_jobs=-1, oob_score=True)\n",
    "\n",
    "print(\"training started\")\n",
    "starting_time = time.time()\n",
    "random_forest_classifier.fit(x_train, y_train)\n",
    "end_time = time.time()\n",
    "print(\"training finished, took {} seconds\".format(end_time - starting_time))\n",
    "\n",
    "random_forest_classifier_roc = metrics.roc_auc_score(\n",
    "    y_validation, random_forest_classifier.predict_proba(x_validation)[:,1])\n",
    "print(\"ROC:\", random_forest_classifier_roc)"
   ]
  },
  {
   "cell_type": "code",
   "execution_count": 7,
   "metadata": {},
   "outputs": [
    {
     "name": "stdout",
     "output_type": "stream",
     "text": [
      "training started\n",
      "training finished, took 161.22091603279114 seconds\n",
      "validation roc: 0.783247667724\n"
     ]
    }
   ],
   "source": [
    "extra_tree_classifier = ensemble.ExtraTreesClassifier(\n",
    "    n_estimators=1000, max_depth=50, min_samples_split=10, min_samples_leaf=2, max_features='log2', n_jobs=-1)\n",
    "\n",
    "print(\"training started\")\n",
    "starting_time = time.time()\n",
    "extra_tree_classifier.fit(x_train, y_train)\n",
    "end_time = time.time()\n",
    "print(\"training finished, took {} seconds\".format(end_time - starting_time))\n",
    "\n",
    "extra_tree_classifier_roc = metrics.roc_auc_score(\n",
    "    y_validation, extra_tree_classifier.predict_proba(x_validation)[:,1])\n",
    "print(\"validation roc:\", extra_tree_classifier_roc)"
   ]
  },
  {
   "cell_type": "code",
   "execution_count": 9,
   "metadata": {},
   "outputs": [
    {
     "name": "stdout",
     "output_type": "stream",
     "text": [
      "training started\n",
      "training finished, took 18.43257713317871 seconds\n",
      "ROC: 0.722975348052\n"
     ]
    }
   ],
   "source": [
    "knn_classifier = neighbors.KNeighborsClassifier(n_neighbors=10, weights=\"distance\", n_jobs=-1)\n",
    "\n",
    "print(\"training started\")\n",
    "starting_time = time.time()\n",
    "knn_classifier.fit(x_train, y_train)\n",
    "end_time = time.time()\n",
    "print(\"training finished, took {} seconds\".format(end_time - starting_time))\n",
    "\n",
    "y_validation_hat = knn_classifier.predict_proba(x_validation)[:,1]\n",
    "\n",
    "knn_classifier_roc = metrics.roc_auc_score(y_validation, y_validation_hat)\n",
    "print(\"ROC:\",knn_classifier_roc)"
   ]
  },
  {
   "cell_type": "code",
   "execution_count": 8,
   "metadata": {},
   "outputs": [
    {
     "name": "stdout",
     "output_type": "stream",
     "text": [
      "training started\n",
      "training finished, took 902.1342298984528 seconds\n",
      "ROC: 0.785299689502\n"
     ]
    }
   ],
   "source": [
    "gradient_boosting_classifier = ensemble.GradientBoostingClassifier(n_estimators=100, learning_rate=0.5,\n",
    "     max_depth=15, max_leaf_nodes=150, random_state=0)\n",
    "random_forest_classifier = ensemble.RandomForestClassifier(\n",
    "    n_estimators=1000, min_samples_leaf=5, n_jobs=-1, oob_score=True)\n",
    "extra_tree_classifier = ensemble.ExtraTreesClassifier(\n",
    "    n_estimators=1000, max_depth=50, min_samples_split=10, min_samples_leaf=2, max_features='log2', n_jobs=-1)\n",
    "knn_classifier = neighbors.KNeighborsClassifier(n_neighbors=10, weights=\"distance\", n_jobs=-1)\n",
    "\n",
    "\n",
    "voting_classifier = ensemble.VotingClassifier(\n",
    "    estimators=[('GB',gradient_boosting_classifier), ('RF',random_forest_classifier),\n",
    "                ('Extra',extra_tree_classifier), ('KNN',knn_classifier)], voting='soft',\n",
    "    weights=[77,78,78,72], flatten_transform=True)\n",
    "\n",
    "print(\"training started\")\n",
    "starting_time = time.time()\n",
    "voting_classifier.fit(x_train, y_train)\n",
    "end_time = time.time()\n",
    "print(\"training finished, took {} seconds\".format(end_time - starting_time))\n",
    "\n",
    "y_validation_hat = voting_classifier.predict_proba(x_validation)[:,1]\n",
    "voting_classifier_roc = metrics.roc_auc_score(y_validation, y_validation_hat)\n",
    "print(\"ROC:\",voting_classifier_roc)"
   ]
  },
  {
   "cell_type": "code",
   "execution_count": 9,
   "metadata": {},
   "outputs": [
    {
     "name": "stdout",
     "output_type": "stream",
     "text": [
      "training started\n",
      "training finished, took 921.9069209098816 seconds\n",
      "ROC: 0.79136950903\n"
     ]
    }
   ],
   "source": [
    "gradient_boosting_classifier = ensemble.GradientBoostingClassifier(n_estimators=100, learning_rate=0.5,\n",
    "     max_depth=15, max_leaf_nodes=150, random_state=0)\n",
    "random_forest_classifier = ensemble.RandomForestClassifier(\n",
    "    n_estimators=1000, min_samples_leaf=5, n_jobs=-1, oob_score=True)\n",
    "extra_tree_classifier = ensemble.ExtraTreesClassifier(\n",
    "    n_estimators=1000, max_depth=50, min_samples_split=10, min_samples_leaf=2, max_features='log2', n_jobs=-1)\n",
    "knn_classifier = neighbors.KNeighborsClassifier(n_neighbors=10, weights=\"distance\", n_jobs=-1)\n",
    "\n",
    "\n",
    "voting_classifier = ensemble.VotingClassifier(\n",
    "    estimators=[('GB',gradient_boosting_classifier), ('RF',random_forest_classifier),\n",
    "                ('Extra',extra_tree_classifier), ('KNN',knn_classifier)], voting='soft',\n",
    "    weights=[7,15,8,2], flatten_transform=True)\n",
    "\n",
    "print(\"training started\")\n",
    "starting_time = time.time()\n",
    "voting_classifier.fit(x_train, y_train)\n",
    "end_time = time.time()\n",
    "print(\"training finished, took {} seconds\".format(end_time - starting_time))\n",
    "\n",
    "y_validation_hat = voting_classifier.predict_proba(x_validation)[:,1]\n",
    "voting_classifier_roc = metrics.roc_auc_score(y_validation, y_validation_hat)\n",
    "print(\"ROC:\",voting_classifier_roc)"
   ]
  },
  {
   "cell_type": "code",
   "execution_count": 10,
   "metadata": {},
   "outputs": [
    {
     "name": "stdout",
     "output_type": "stream",
     "text": [
      "training started\n",
      "training finished, took 1356.8677637577057 seconds\n"
     ]
    }
   ],
   "source": [
    "gradient_boosting_classifier = ensemble.GradientBoostingClassifier(n_estimators=100, learning_rate=0.5,\n",
    "     max_depth=15, max_leaf_nodes=150, random_state=0)\n",
    "random_forest_classifier = ensemble.RandomForestClassifier(\n",
    "    n_estimators=1000, min_samples_leaf=5, n_jobs=-1, oob_score=True)\n",
    "extra_tree_classifier = ensemble.ExtraTreesClassifier(\n",
    "    n_estimators=1000, max_depth=50, min_samples_split=10, min_samples_leaf=2, max_features='log2', n_jobs=-1)\n",
    "knn_classifier = neighbors.KNeighborsClassifier(n_neighbors=10, weights=\"distance\", n_jobs=-1)\n",
    "\n",
    "\n",
    "voting_classifier = ensemble.VotingClassifier(\n",
    "    estimators=[('GB',gradient_boosting_classifier), ('RF',random_forest_classifier),\n",
    "                ('Extra',extra_tree_classifier), ('KNN',knn_classifier)], voting='soft',\n",
    "    weights=[7,15,8,2], flatten_transform=True)\n",
    "\n",
    "print(\"training started\")\n",
    "starting_time = time.time()\n",
    "voting_classifier.fit(x_data, y_data)\n",
    "end_time = time.time()\n",
    "print(\"training finished, took {} seconds\".format(end_time - starting_time))\n",
    "\n",
    "y_test_hat = voting_classifier.predict_proba(x_test)[:,1]\n",
    "#voting_classifier_roc = metrics.roc_auc_score(y_validation, y_validation_hat)\n",
    "#print(\"ROC:\",voting_classifier_roc)"
   ]
  },
  {
   "cell_type": "code",
   "execution_count": 11,
   "metadata": {
    "collapsed": true
   },
   "outputs": [],
   "source": [
    "Yte = np.vstack((np.arange(len(y_test_hat)), y_test_hat)).T\n",
    "np.savetxt('Y_submit_Final1.txt', Yte, '%d, %.2f', header='ID,Prob1', comments='', delimiter=',')"
   ]
  },
  {
   "cell_type": "markdown",
   "metadata": {},
   "source": [
    "## Test Result ROC=0.79721"
   ]
  }
 ],
 "metadata": {
  "kernelspec": {
   "display_name": "Python [conda env:ipykernel_py3]",
   "language": "python",
   "name": "conda-env-ipykernel_py3-py"
  },
  "language_info": {
   "codemirror_mode": {
    "name": "ipython",
    "version": 3
   },
   "file_extension": ".py",
   "mimetype": "text/x-python",
   "name": "python",
   "nbconvert_exporter": "python",
   "pygments_lexer": "ipython3",
   "version": "3.6.2"
  }
 },
 "nbformat": 4,
 "nbformat_minor": 1
}
